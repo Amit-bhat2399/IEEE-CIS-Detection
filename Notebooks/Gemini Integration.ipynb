{
 "cells": [
  {
   "cell_type": "code",
   "execution_count": 33,
   "id": "d3b836e6",
   "metadata": {},
   "outputs": [
    {
     "name": "stderr",
     "output_type": "stream",
     "text": [
      "C:\\Users\\AMIT\\anaconda3\\Lib\\site-packages\\xgboost\\core.py:160: UserWarning: [17:35:19] WARNING: C:\\buildkite-agent\\builds\\buildkite-windows-cpu-autoscaling-group-i-0b3782d1791676daf-1\\xgboost\\xgboost-ci-windows\\src\\common\\error_msg.cc:27: The tree method `gpu_hist` is deprecated since 2.0.0. To use GPU training, set the `device` parameter to CUDA instead.\n",
      "\n",
      "    E.g. tree_method = \"hist\", device = \"cuda\"\n",
      "\n",
      "  warnings.warn(smsg, UserWarning)\n"
     ]
    },
    {
     "name": "stdout",
     "output_type": "stream",
     "text": [
      "Enter the transaction index: 5000\n",
      "SHAP explanation saved at: shap_explanation.png\n"
     ]
    }
   ],
   "source": [
    "import shap\n",
    "import matplotlib.pyplot as plt\n",
    "import pandas as pd\n",
    "import numpy as np\n",
    "import pickle\n",
    "\n",
    "# Load trained model\n",
    "model = pickle.load(open(\"fraud_model.pkl\", \"rb\"))\n",
    "\n",
    "# Load test dataset\n",
    "X_test = pd.read_csv(\"Processed_test_data.csv\")\n",
    "\n",
    "# Initialize SHAP Explainer\n",
    "explainer = shap.TreeExplainer(model)\n",
    "\n",
    "def generate_shap_image(index, save_path=\"shap_explanation.png\"):\n",
    "    \"\"\"Generate and save SHAP waterfall plot for a given index.\"\"\"\n",
    "    try:\n",
    "        test_sample = X_test.iloc[[index]]  # Ensure DataFrame format\n",
    "\n",
    "        # Compute SHAP values\n",
    "        shap_values = explainer.shap_values(test_sample)\n",
    "\n",
    "        # Handle classification models properly\n",
    "        if isinstance(shap_values, list):  \n",
    "            if len(shap_values) > 1:\n",
    "                print(\"Multi-class classification detected. Using first class for visualization.\")\n",
    "                shap_values = shap_values[0]  # Use first class (modify as needed)\n",
    "            else:\n",
    "                shap_values = shap_values[0]  # Extract if binary classification\n",
    "\n",
    "        # Convert to numpy array if not already\n",
    "        shap_values = np.array(shap_values)\n",
    "        \n",
    "        # Ensure correct expected_value format\n",
    "        base_value = explainer.expected_value\n",
    "        if isinstance(base_value, np.ndarray):  \n",
    "            base_value = base_value[0]  # Take first expected value if classification\n",
    "\n",
    "        # Ensure values are 1D\n",
    "        shap_values_1d = shap_values[0]  # Extract values for single instance\n",
    "\n",
    "        # Create SHAP Explanation object\n",
    "        shap_exp = shap.Explanation(\n",
    "            values=shap_values_1d,\n",
    "            base_values=base_value,\n",
    "            feature_names=X_test.columns\n",
    "        )\n",
    "\n",
    "        # Generate SHAP waterfall plot\n",
    "        fig, ax = plt.subplots(figsize=(10, 6))  # Explicitly create a figure & axis\n",
    "        shap.waterfall_plot(shap_exp, show=False)  # Disable automatic display\n",
    "\n",
    "        # Save figure explicitly\n",
    "        fig.savefig(save_path, bbox_inches=\"tight\", dpi=300)  \n",
    "        plt.close(fig)  # Close figure to free memory\n",
    "        \n",
    "        print(f\"SHAP explanation saved at: {save_path}\")\n",
    "        return save_path\n",
    "\n",
    "    except Exception as e:\n",
    "        return f\"Error: {str(e)}\"\n",
    "\n",
    "# Example usage\n",
    "index = int(input(\"Enter the transaction index: \"))  # Ensure integer input\n",
    "shap_image_path = generate_shap_image(index)\n",
    "\n"
   ]
  },
  {
   "cell_type": "code",
   "execution_count": 15,
   "id": "100634d8",
   "metadata": {},
   "outputs": [],
   "source": [
    "#!pip install google-generativeai\n"
   ]
  },
  {
   "cell_type": "code",
   "execution_count": 34,
   "id": "276a7845",
   "metadata": {
    "scrolled": false
   },
   "outputs": [
    {
     "name": "stdout",
     "output_type": "stream",
     "text": [
      "Gemini Explanation:\n",
      " Based on the SHAP force plot, the model classified the transaction as **not fraud**. Here's why:\n",
      "\n",
      "*   **Overall Prediction:** The final value `f(x) = -4.929` is less than the base value `E[f(x)] = -3.522`. In the context of fraud detection, a negative SHAP value typically indicates a lower probability of fraud (and therefore, a classification leaning towards \"not fraud\").\n",
      "\n",
      "*   **Feature Contributions:**\n",
      "    *   Several features pushed the prediction towards *lower* fraud probability (blue features):\n",
      "        *   `C5`: Contributed the most, decreasing the log odds of fraud by 0.26.\n",
      "        *   `C13`: Decreased the log odds of fraud by 0.16.\n",
      "        *   `M4`: Decreased the log odds of fraud by 0.15.\n",
      "        *   `C14`: Decreased the log odds of fraud by 0.11.\n",
      "        *   `PCA_V_4`: Decreased the log odds of fraud by 0.11.\n",
      "        *   `card6`: Decreased the log odds of fraud by 0.08.\n",
      "        *   `PCA_V_5`: Decreased the log odds of fraud by 0.07.\n",
      "        *   `124 other features`: In aggregate, significantly decreased the log odds of fraud by 0.7.\n",
      "\n",
      "    *   Some features pushed the prediction towards *higher* fraud probability (red features), but their impact was smaller:\n",
      "        *   `TransactionID`: Increased the log odds of fraud by 0.15.\n",
      "        *   `card2`: Increased the log odds of fraud by 0.08.\n",
      "\n",
      "*   **Conclusion:**  While some features hinted at potential fraud (red), the combined effect of the features indicating a lower likelihood of fraud (blue) was much stronger, resulting in the model classifying the transaction as \"not fraud\". The aggregate effect of the 124 other features had a significant contribution to this prediction.\n"
     ]
    }
   ],
   "source": [
    "import google.generativeai as genai\n",
    "import base64\n",
    "\n",
    "# Initialize Gemini API (Replace with your actual API Key)\n",
    "genai.configure(api_key=\"\")\n",
    "\n",
    "def analyze_shap_with_gemini(image_path):\n",
    "    \"\"\"Send SHAP image to Gemini 2.0 Flash Experimental and get fraud explanation.\"\"\"\n",
    "    \n",
    "    # Read the SHAP image\n",
    "    with open(image_path, \"rb\") as image_file:\n",
    "        image_bytes = image_file.read()\n",
    "\n",
    "    # Define the prompt for explanation\n",
    "    prompt = \"\"\"\n",
    "    This is a SHAP force plot explaining a model's fraud classification decision from the IEEE-CIS Fraud Detection dataset on Kaggle.\n",
    "    - Features in **red** increase the probability of fraud.\n",
    "    - Features in **blue** decrease the probability of fraud.\n",
    "    Analyze this image and explain why the model classified the transaction as fraud or not fraud.\n",
    "    \"\"\"\n",
    "\n",
    "    # Initialize the correct Gemini model\n",
    "    model = genai.GenerativeModel(\"gemini-2.0-flash-exp\")\n",
    "\n",
    "    # Send request to Gemini 2.0 Flash Experimental\n",
    "    response = model.generate_content(\n",
    "        [prompt, {\"mime_type\": \"image/png\", \"data\": image_bytes}]\n",
    "    )\n",
    "\n",
    "    return response.text\n",
    "\n",
    "# Example usage\n",
    "shap_image_path = \"shap_explanation.png\"  # Ensure this file exists\n",
    "explanation = analyze_shap_with_gemini(shap_image_path)\n",
    "print(\"Gemini Explanation:\\n\", explanation)\n"
   ]
  }
 ],
 "metadata": {
  "kernelspec": {
   "display_name": "Python 3 (ipykernel)",
   "language": "python",
   "name": "python3"
  },
  "language_info": {
   "codemirror_mode": {
    "name": "ipython",
    "version": 3
   },
   "file_extension": ".py",
   "mimetype": "text/x-python",
   "name": "python",
   "nbconvert_exporter": "python",
   "pygments_lexer": "ipython3",
   "version": "3.11.4"
  }
 },
 "nbformat": 4,
 "nbformat_minor": 5
}
